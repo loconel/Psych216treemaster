{
 "metadata": {
  "name": "week3_tutorial"
 },
 "nbformat": 3,
 "nbformat_minor": 0,
 "worksheets": [
  {
   "cells": [
    {
     "cell_type": "heading",
     "level": 1,
     "metadata": {},
     "source": [
      "Psych 216A Tutorial #3: Model Specification"
     ]
    },
    {
     "cell_type": "markdown",
     "metadata": {},
     "source": [
      "We will cover in detail the following setions of Lecture 3\n",
      "\n",
      "1. Section 5, Linear models.\n",
      "\n",
      "2. Section 7, Linearized models.\n",
      " \n",
      "3. Section 9, Non parametric nonlinear models; nearest neighbours.\n",
      "\n",
      "We will cover procedures for fitting these models in future tutorials.\n",
      "\n",
      "Written by Franco Pestilli, PhD, Stanford University, April 2012\n",
      "\n",
      "Translated to Python by Michael Waskom, June 2012"
     ]
    },
    {
     "cell_type": "code",
     "collapsed": false,
     "input": [
      "%pylab inline"
     ],
     "language": "python",
     "metadata": {},
     "outputs": [
      {
       "output_type": "stream",
       "stream": "stdout",
       "text": [
        "\n",
        "Welcome to pylab, a matplotlib-based Python environment [backend: module://IPython.zmq.pylab.backend_inline].\n",
        "For more information, type 'help(pylab)'.\n"
       ]
      }
     ],
     "prompt_number": 2
    },
    {
     "cell_type": "code",
     "collapsed": false,
     "input": [
      "from __future__ import division\n",
      "import utils\n",
      "import seaborn\n",
      "seaborn.set()\n",
      "colors = seaborn.color_palette(\"deep\")"
     ],
     "language": "python",
     "metadata": {},
     "outputs": [],
     "prompt_number": 3
    },
    {
     "cell_type": "heading",
     "level": 3,
     "metadata": {},
     "source": [
      "(5) Linear Models"
     ]
    },
    {
     "cell_type": "markdown",
     "metadata": {},
     "source": [
      "- When computing the correlation between two variables $x$ and $y$, we are\n",
      "implicitly fitting the linear model $y = ax + b$ where $a$ and $b$ are free\n",
      "parameters. We can say that $x$ is an input variable, $y$ is the output\n",
      "variable, and the model attempts to predict the output variable based on\n",
      "the input variable. Alternatively, we can say that $x$ is a regressor, $y$ is\n",
      "the data, and the model attempts to explain the data using the regressor.\n",
      "\n",
      "- Linear models can be interpreted as models in which the prediction is a\n",
      "weighted sum of the regressors. For example, suppose we have a set of\n",
      "regressors $x_i$ where $i$ ranges from $1$ to $n$.\n",
      " \n",
      "- The prediction of a linear model is\n",
      "\n",
      "$$y = \\sum_{all i}{w_ix_i}$$\n",
      "\n",
      "where $w$ is the weight to apply to $x$ to obtain $y$. For example with three regressors:\n",
      "\n",
      "$$y = w_1x_1 + w_2x_2 + w_3x_3$$\n",
      "\n",
      "- To see why $y = ax + b$ counts as a linear model, notice that we can\n",
      "re-write the model as $y = ax + b1$ where $1$ is a constant regressor\n",
      "consisting of all ones. By constant regressor we mean a vector of all 1s\n",
      "with the same number of entries (rows) as $x$.\n",
      " \n",
      "Then, if we set  $x_1 = x$ and $x_2 = 1$, the model can be re-written as\n",
      "$y = w_1x_1 + w_2x_2$ where and $w_1$ and $w_2$ are free parameters (parameters that are\n",
      "free to vary). This is to say:\n",
      "\n",
      "$y = ax + bx_2$, where $x_2 = 1$\n",
      " \n",
      "Hereafter we will show that we can rewrite $y = ax + b$ as $y = sum(hx)$\n",
      "where $h$ is a set of weights\n"
     ]
    },
    {
     "cell_type": "code",
     "collapsed": false,
     "input": [
      "# We will simulate a dataset with two variables\n",
      "# First we create a variable x\n",
      "x = arange(15)\n",
      "a = 2 # Scaling, scales y in relation to the same value of x\n",
      "b = 4 # Additive term, shifts y up in relation to the same value of x\n",
      "\n",
      "# We will create a secod variable as a linear trasformation of the first\n",
      "# one. We double x, we add 4 to each of its elements and add random\n",
      "# gaussian noise the size as x\n",
      "noise = randn(len(x))\n",
      "\n",
      "# Note that we are effectively using the formula y = ax + b to simulate the data\n",
      "y = (a * x + b) + 3 * noise"
     ],
     "language": "python",
     "metadata": {},
     "outputs": [],
     "prompt_number": 4
    },
    {
     "cell_type": "code",
     "collapsed": false,
     "input": [
      "# Now we take a look at the relation between these two variables using a scatterplot\n",
      "plot(x, y, \"o\")\n",
      "xlabel(\"variable 1\")\n",
      "ylabel(\"variable 2\");"
     ],
     "language": "python",
     "metadata": {},
     "outputs": [
      {
       "output_type": "display_data",
       "png": "[encoded data removed]"
      }
     ],
     "prompt_number": 5
    },
    {
     "cell_type": "code",
     "collapsed": false,
     "input": [
      "# To help visualize the relation between the two variables it is good to\n",
      "# plot them on axis with equal spacing (on x and y) and displaying equal\n",
      "# ranges of x and y's\n",
      "figure(figsize=(8, 8))\n",
      "plot(x, y, \"o\")\n",
      "axis((-1, 35, -1, 35))\n",
      "\n",
      "# Above we simulated the data using the relation y = ax + b.\n",
      "# Here we show that we can rewrite the same relation using matrix notation\n",
      "X = row_stack((x, ones_like(x)))\n",
      "\n",
      "# Notice that the way we have set up our matrix X each regressor is in a\n",
      "# row and each observation is in a column.  The matrix X should be\n",
      "# transposed such that regressors are in columns and observations are in\n",
      "# the rows.  This dimensionality is essential for the matrix multiplication\n",
      "# to work out properly\n",
      "X = X.T # Here we transpose X\n",
      "\n",
      "# We could have also done\n",
      "X = column_stack((x, ones_like(x)))\n",
      "\n",
      "# The matrix X can be multiplied by some weights (w). These weights\n",
      "# effectily shift and scale the data in x.  These weights are the\n",
      "# coeficient of the linear equation; y = ax+b, we used to simulate the\n",
      "# data.\n",
      "w = row_stack((a, b))\n",
      "\n",
      "# We can describe the simulated data by plotting the straight line defined\n",
      "# by the model y = ax+b. This is the model we used to tranform x into y\n",
      "y_model1 = a * x + b\n",
      "\n",
      "# Plot the model on top of the data\n",
      "plot(x, y_model1, linewidth=3)\n",
      "\n",
      "# Alternatively we can describe the data by using the same linear model\n",
      "# but written in matrix notation.\n",
      "\n",
      "# Note that unlike MATLAB, using the \"*\" operator on numpy arrays\n",
      "# performs element-wise multiplication. To perform real matrix\n",
      "# multiplication, we could use numpy.matrix objects, which can\n",
      "# be created with syntax similar to MATLAB\n",
      "mtx1 = matrix([\"1 2; 3 4\"])\n",
      "mtx2 = matrix(X)\n",
      "\n",
      "# However, it is generally better practice to perform mulitiplication\n",
      "# using the numpy.dot() function\n",
      "\n",
      "# For those of you who are not familiar with linear algebra\n",
      "# our vector or weights denoted by w must be (1) a column vector and (2)\n",
      "# have as many entries as there are columns of X.  This can be formalized\n",
      "# in the following line of code where we assert that the number of columns\n",
      "# in X is equal to the number of rows in w.  \n",
      "assert X.shape[1] == w.shape[0], 'Dimension mismatch between X and w'\n",
      "\n",
      "# Because the dimensions match we can perform the following multiplication\n",
      "y_model2 = dot(X, w)\n",
      "\n",
      "# Plot the model\n",
      "# The two models, 1 and 2, are perfectly on top of eachother. We play here\n",
      "# with the the line style to make them a bit more visible. You\n",
      "# should see a continuous green line (model 1) and on top of it a red\n",
      "# dashed line (model 2). \n",
      "plot(x, y_model2, \"--\", linewidth=3);"
     ],
     "language": "python",
     "metadata": {},
     "outputs": [
      {
       "output_type": "display_data",
       "png": "[encoded data removed]"
      }
     ],
     "prompt_number": 6
    },
    {
     "cell_type": "heading",
     "level": 3,
     "metadata": {},
     "source": [
      "(7) Linearized models"
     ]
    },
    {
     "cell_type": "markdown",
     "metadata": {},
     "source": [
      "These are one type of nonlinear model. Every nonlinear model (a model\n",
      "that cannot be plotted on two axis and be described by a single line is\n",
      "a non-linear model).\n",
      " \n",
      "Linearized models are non-linear models that can be transformed to linear\n",
      "models using a single tranformation. Generally, the traformation can be\n",
      "thought of as an expansion of the input space.\n",
      "\n",
      "Hereafter we will simulate a non-linear dataset, with two variables. The\n",
      "two variables have a non-linear relation bewteen them. We will show how\n",
      "we can re-write the non-linear model and linearize it so that it can be\n",
      "described by a linear operation (addition and multiplication)."
     ]
    },
    {
     "cell_type": "code",
     "collapsed": false,
     "input": [
      "# First we create a variable, x\n",
      "x = arange(-15, 16)\n",
      "\n",
      "# We will now need three parameters\n",
      "a = 1.5  # Scaling, expands y in relaton to the same value of x.\n",
      "b = 2  # Additive term, shifts y up in relation to the same value of x.\n",
      "c = 1.5  # This is the term that decribe the influence of the non-linear \n",
      "         # component. The greater this term the strongest the nonlinearity"
     ],
     "language": "python",
     "metadata": {},
     "outputs": [],
     "prompt_number": 7
    },
    {
     "cell_type": "markdown",
     "metadata": {},
     "source": [
      "The second variable is a non-linear trasformation of the first one. We\n",
      "double x, we add 4 to each of its elements, we square x and double it and\n",
      "add random gaussian noise.\n"
     ]
    },
    {
     "cell_type": "code",
     "collapsed": false,
     "input": [
      "noise = randn(len(x)) * 6\n",
      "y = c * x ** 2 + a * x + b + noise"
     ],
     "language": "python",
     "metadata": {},
     "outputs": [],
     "prompt_number": 8
    },
    {
     "cell_type": "markdown",
     "metadata": {},
     "source": [
      "Plotting the data, we can 'see' that a line is not a good model for it"
     ]
    },
    {
     "cell_type": "code",
     "collapsed": false,
     "input": [
      "plot(x, y, \".\")\n",
      "xlabel(\"variable 1\")\n",
      "ylabel(\"variable 2\")\n",
      "axis((-40, 40, -10, 400));"
     ],
     "language": "python",
     "metadata": {},
     "outputs": [
      {
       "output_type": "display_data",
       "png": "[encoded data removed]"
      }
     ],
     "prompt_number": 9
    },
    {
     "cell_type": "markdown",
     "metadata": {},
     "source": [
      "We introduced above the matrix notation $y = \\matrix{X}w$. This same notation can\n",
      "be used to represent this new non-linear dataset.\n",
      "\n",
      "To do so we effectively linearize the model that we use to represent the\n",
      "data set. $x^2$ will be coded as a new entry in $\\matrix{X}$, this new entry is now\n",
      "a linear function of $x^2$. The coefficient $c$ is the weight to apply to this\n",
      " new component of the linearized model."
     ]
    },
    {
     "cell_type": "code",
     "collapsed": false,
     "input": [
      "X = column_stack((x ** 2, x, ones_like(x)))"
     ],
     "language": "python",
     "metadata": {},
     "outputs": [],
     "prompt_number": 10
    },
    {
     "cell_type": "markdown",
     "metadata": {},
     "source": [
      "We can appreciate the matrix representation of the linearized model by plotting each value in $\\matrix{X}$ as intensity on an image of shape = shape(X).\n",
      "\n",
      "We will use the ``matshow()`` function to do so. This is really just a wrapper around the more generic ``imshow()`` function."
     ]
    },
    {
     "cell_type": "code",
     "collapsed": false,
     "input": [
      "# Plot the matrix\n",
      "matshow(X)\n",
      "\n",
      "# We will turn off the grid we have been using\n",
      "grid()\n",
      "\n",
      "# Use set the colormap for the whole image to be  a shade of grays\n",
      "gray()\n",
      "\n",
      "# Turn on a colorbar to compare the values in the image\n",
      "colorbar()"
     ],
     "language": "python",
     "metadata": {},
     "outputs": [
      {
       "output_type": "pyout",
       "prompt_number": 11,
       "text": [
        "<matplotlib.colorbar.Colorbar instance at 0x99379b8>"
       ]
      },
      {
       "output_type": "display_data",
       "png": "[encoded data removed]"
      }
     ],
     "prompt_number": 11
    },
    {
     "cell_type": "markdown",
     "metadata": {},
     "source": [
      "Values are high (bright) in the first column at the top and bottom.\n",
      "This is because we are taking the power of $x$ there and also we are\n",
      "multiplying by $c$. They are lower (dimmer) in the second\n",
      "column and even lower in the last column.\n",
      "\n",
      "We can show that the linearized model $y = \\matrix{X}w$ describes well the data\n",
      "with a single linear operation, multiplication.\n",
      "\n",
      "These are the new weights for the linearized model."
     ]
    },
    {
     "cell_type": "code",
     "collapsed": false,
     "input": [
      "# Make the weight vector\n",
      "w = row_stack((c, a, b))\n",
      "\n",
      "# Check the dimensions of w and X are correct\n",
      "sw = w.shape\n",
      "print \"w is %d by %d\" % sw\n",
      "\n",
      "sX = X.shape\n",
      "print \"X is %d by %d\" % sX\n",
      "\n",
      "# Formally check to make sure the dimensions match\n",
      "assert sw[0] == sX[1], \"Dimension mismatch between X and w\""
     ],
     "language": "python",
     "metadata": {},
     "outputs": [
      {
       "output_type": "stream",
       "stream": "stdout",
       "text": [
        "w is 3 by 1\n",
        "X is 31 by 3\n"
       ]
      }
     ],
     "prompt_number": 12
    },
    {
     "cell_type": "code",
     "collapsed": false,
     "input": [
      "# Build the model with matrix multiplication\n",
      "y_model3 = dot(X, w)\n",
      "\n",
      "# Plot the data and model\n",
      "plot(x, y, \".\")\n",
      "axis((-40, 40, -10, 400))\n",
      "plot(x, y_model3);"
     ],
     "language": "python",
     "metadata": {},
     "outputs": [
      {
       "output_type": "display_data",
       "png": "[encoded data removed]"
      }
     ],
     "prompt_number": 13
    },
    {
     "cell_type": "heading",
     "level": 3,
     "metadata": {},
     "source": [
      "(9) Non parametric nonlinear models; nearest neighbours."
     ]
    },
    {
     "cell_type": "markdown",
     "metadata": {},
     "source": [
      "A third type of nonlinear model is a nonparametric nonlinear model.\n",
      "Nonparametric nonlinear models are essentially very flexible nonlinear\n",
      "models that can be generically applied to arbitrary datasets. \n",
      " \n",
      "- The distinction between nonparametric nonlinear models and the other\n",
      "types of nonlinear models can be hazy, but we can make some generalities:\n",
      "\n",
      "(1) Nonparametric nonlinear models are sometimes nonlinear with respect\n",
      "to the free parameters; thus, we cannot categorize them as linearized\n",
      "models.\n",
      "\n",
      "(2) Nonparametric nonlinear models make few assumptions on the\n",
      "form of the nonlinearity of the model, unlike parametric nonlinear\n",
      "models.\n",
      "\n",
      "Examples of nonparametric nonlinear models include nearest-neighbor\n",
      "methods (predict the output based on the nearest input example), local\n",
      "(fit a simple model at each point in the input space based on\n",
      "nearby data points), and neural networks (use generic basis functions\n",
      "such as sigmoidal or radial basis functions to model the output)."
     ]
    },
    {
     "cell_type": "code",
     "collapsed": false,
     "input": [
      "# Suppose we collected some measure of height, weight and the corresponding \"beauty\" \n",
      "# on a set of individuals. \n",
      "height = array([1.75, 1.55, 1.82, 1.77, 1.8, 1.65, 1.6])  # in meters\n",
      "weight = array([75, 70, 72, 65, 68, 70, 68])  # in Kg.\n",
      "beauty = array([1, 4, 2, 7, 7, 4, 3])  # 1-7, 7 is most beautiful"
     ],
     "language": "python",
     "metadata": {},
     "outputs": [],
     "prompt_number": 14
    },
    {
     "cell_type": "markdown",
     "metadata": {},
     "source": [
      "We plot here the data in a scatter plot of weight vs. height where the\n",
      "size of symbols are set by the beauty rating. More beautiful individual\n",
      "have bigger symbols. "
     ]
    },
    {
     "cell_type": "code",
     "collapsed": false,
     "input": [
      "# Unlike the matlab code, we can do this in one step\n",
      "scatter(height, weight, beauty * 20, color=colors[2])\n",
      "axis((1.5, 2, 60, 80))\n",
      "xlabel(\"Height (meters)\")\n",
      "ylabel(\"Weight (Kg)\");"
     ],
     "language": "python",
     "metadata": {},
     "outputs": [
      {
       "output_type": "display_data",
       "png": "[encoded data removed]"
      }
     ],
     "prompt_number": 15
    },
    {
     "cell_type": "markdown",
     "metadata": {},
     "source": [
      "Now we want to build a model to predict beauty ratings of new individuals\n",
      "given this data set.\n",
      " \n",
      "The model is a nearest-neighbor  model where a new individuals\n",
      "beauty is predicted by other individuals that are near them in euclidean\n",
      "space.  Note that this can be done with infinitely many predictor\n",
      "variables however it is easier to visualize this model with just 2\n",
      "variables\n",
      " \n",
      "We know the height (1.8 meters) and the weight (68 Kg) of the individual.\n",
      "The nearest-neighbor  model will allow us to predict the beauty\n",
      "of the individual by using the set of data of the original sample and the\n",
      "measures of height and weight for the new individual."
     ]
    },
    {
     "cell_type": "code",
     "collapsed": false,
     "input": [
      "height_ind = 1.9\n",
      "weight_ind = 67"
     ],
     "language": "python",
     "metadata": {},
     "outputs": [],
     "prompt_number": 16
    },
    {
     "cell_type": "markdown",
     "metadata": {},
     "source": [
      "The prediction of a nearest-neighbor model for the new\n",
      "individual is the beauty rating of the individual that has the closet\n",
      "height and weight.\n",
      "\n",
      "To set up the nearest-neighbor model we find the distance of the height\n",
      "and weight of the new individual from all the rest of the idividual in\n",
      "our original sample. We sum the distances among weights and heights. In\n",
      "this way we have a measure of distance between the new individual and the\n",
      "rest of the group, the distance combines both height and weight. "
     ]
    },
    {
     "cell_type": "code",
     "collapsed": false,
     "input": [
      "distance = (height_ind - height) ** 2 + (weight_ind - weight) ** 2\n",
      "\n",
      "# We can also do this with a function from the scipy package\n",
      "from scipy.spatial.distance import cdist\n",
      "pop = column_stack((height, weight))\n",
      "sample = column_stack((height_ind, weight_ind))\n",
      "distance2 = cdist(pop, sample)\n",
      "\n",
      "# By default, cdist computes the euclidian distance, but you can use many others\n",
      "# It also generalizes to n dimensions\n",
      "assert all(sqrt(distance) == distance2.ravel())"
     ],
     "language": "python",
     "metadata": {},
     "outputs": [],
     "prompt_number": 17
    },
    {
     "cell_type": "markdown",
     "metadata": {},
     "source": [
      "After setting up our distance measure. We can find the individual in the\n",
      "orginal data set that has smallest distance to the new individual. We can\n",
      "then use the beauty rating of that individual in the original data set as\n",
      "the predicted beauty for the new individual."
     ]
    },
    {
     "cell_type": "code",
     "collapsed": false,
     "input": [
      "scatter(height, weight, beauty * 20, color=colors[2])\n",
      "axis((1.5, 2, 60, 80))\n",
      "xlabel(\"Height (meters)\")\n",
      "ylabel(\"Weight (Kg)\")\n",
      "\n",
      "# Find the closest individual\n",
      "idx = argmin(distance)\n",
      "\n",
      "# Look up their beauty\n",
      "predicted_beatuy = beauty[idx]\n",
      "\n",
      "# The  nearest-neighbor model uses the closest data point to\n",
      "# predict the expected value of a new data point. In this way the model is\n",
      "# non parametric, because it uses the actual data (the closest point to the\n",
      "# new point) as the model (prediction).\n",
      "\n",
      "# Here we plot the new individual with the original group.\n",
      "scatter(height_ind, weight_ind, predicted_beatuy * 20, color=colors[0]);"
     ],
     "language": "python",
     "metadata": {},
     "outputs": [
      {
       "output_type": "display_data",
       "png": "[encoded data removed]"
      }
     ],
     "prompt_number": 18
    }
   ],
   "metadata": {}
  }
 ]
}