{
 "cells": [
  {
   "cell_type": "code",
   "execution_count": null,
   "metadata": {
    "collapsed": true
   },
   "outputs": [],
   "source": [
    "import numpy as np\n",
    "import matplotlib.pyplot as plt\n",
    "from numpy import ones,zeros,sort\n",
    "from scipy.spatial import ConvexHull,Delaunay"
   ]
  },
  {
   "cell_type": "code",
   "execution_count": null,
   "metadata": {
    "collapsed": false
   },
   "outputs": [],
   "source": [
    "points = np.array([[0,3.5087],[1,2.6043],[2,1.9240],[3, 1.5072],[4,1.2469],[5,0.9658],[6,0.5743],[7,0.3269],[8,0.2060]])\n",
    "\n",
    "hull = ConvexHull(points)\n",
    "print 'hull.points'\n",
    "print hull.points\n",
    "print 'hull.simplices'\n",
    "print hull.simplices\n",
    "print 'hull.vertices'\n",
    "print hull.vertices\n",
    "print 'hull.neighbors'\n",
    "print hull.neighbors\n",
    "print 'hull.equations'\n",
    "print hull.equations\n",
    "\n",
    "y = np.sort(hull.vertices)\n",
    "\n",
    "\n",
    "plt.plot(points[:,0], points[:,1], 'o')\n",
    "for simplex in hull.simplices:\n",
    "    print simplex\n",
    "    print points[simplex, 0],points[simplex, 1]\n",
    "    plt.plot(points[simplex, 0], points[simplex, 1])\n",
    "\n",
    "\n",
    "plt.show()"
   ]
  },
  {
   "cell_type": "code",
   "execution_count": null,
   "metadata": {
    "collapsed": true
   },
   "outputs": [],
   "source": []
  },
  {
   "cell_type": "code",
   "execution_count": null,
   "metadata": {
    "collapsed": true
   },
   "outputs": [],
   "source": []
  }
 ],
 "metadata": {
  "kernelspec": {
   "display_name": "Python [Root]",
   "language": "python",
   "name": "Python [Root]"
  },
  "language_info": {
   "codemirror_mode": {
    "name": "ipython",
    "version": 2
   },
   "file_extension": ".py",
   "mimetype": "text/x-python",
   "name": "python",
   "nbconvert_exporter": "python",
   "pygments_lexer": "ipython2",
   "version": "2.7.12"
  }
 },
 "nbformat": 4,
 "nbformat_minor": 0
}
