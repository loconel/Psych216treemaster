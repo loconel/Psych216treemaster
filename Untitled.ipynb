{
 "cells": [
  {
   "cell_type": "code",
   "execution_count": null,
   "metadata": {
    "collapsed": true
   },
   "outputs": [],
   "source": [
    "import numpy as np\n",
    "import matplotlib.pyplot as plt\n",
    "from numpy import ones,zeros,sort"
   ]
  },
  {
   "cell_type": "code",
   "execution_count": null,
   "metadata": {
    "collapsed": false
   },
   "outputs": [],
   "source": [
    "\n",
    "\n",
    "\n",
    "from scipy.spatial import ConvexHull,Delaunay\n",
    "# points = np.random.rand(4, 2)   # 30 random points in 2-D\n",
    "# points = np.array([[0,1.530],[1,0.936],[2, 0.649],[3,0.527],[4,0.406],[5,0.212],[6,0.082],[7,0.040],[8,0.029]])\n",
    "# points = np.array([[0,1.020],[1,0.533],[2,0.324],[3, 0.178],[4,0.103],[5,0.057],[6,0.033],[7,0.018],[8,0.007]])\n",
    "#Sherbrooke 2004 pag 51\n",
    "points = np.array([[0,3.5087],[1,2.6043],[2,1.9240],[3, 1.5072],[4,1.2469],[5,0.9658],[6,0.5743],[7,0.3269],[8,0.2060]])\n",
    "\n",
    "hull = ConvexHull(points)\n",
    "print 'hull.points'\n",
    "print hull.points\n",
    "print 'hull.simplices'\n",
    "print hull.simplices\n",
    "print 'hull.vertices'\n",
    "print hull.vertices\n",
    "print 'hull.neighbors'\n",
    "print hull.neighbors\n",
    "print 'hull.equations'\n",
    "print hull.equations\n",
    "\n",
    "y = np.sort(hull.vertices)\n",
    "\n",
    "\n",
    "plt.plot(points[:,0], points[:,1], 'o')\n",
    "for simplex in hull.simplices:\n",
    "    print simplex\n",
    "    print points[simplex, 0],points[simplex, 1]\n",
    "    plt.plot(points[simplex, 0], points[simplex, 1])\n",
    "\n",
    "\n",
    "plt.show()\n",
    "\n"
   ]
  },
  {
   "cell_type": "code",
   "execution_count": null,
   "metadata": {
    "collapsed": true
   },
   "outputs": [],
   "source": []
  },
  {
   "cell_type": "code",
   "execution_count": null,
   "metadata": {
    "collapsed": true
   },
   "outputs": [],
   "source": []
  }
 ],
 "metadata": {
  "kernelspec": {
   "display_name": "Python [Root]",
   "language": "python",
   "name": "Python [Root]"
  },
  "language_info": {
   "codemirror_mode": {
    "name": "ipython",
    "version": 2
   },
   "file_extension": ".py",
   "mimetype": "text/x-python",
   "name": "python",
   "nbconvert_exporter": "python",
   "pygments_lexer": "ipython2",
   "version": "2.7.12"
  }
 },
 "nbformat": 4,
 "nbformat_minor": 0
}
